{
 "cells": [
  {
   "cell_type": "code",
   "metadata": {
    "cell_id": "19a256e7-3c5f-487a-8b22-1cb2e40a42b3",
    "deepnote_to_be_reexecuted": false,
    "source_hash": "8fd0b018",
    "execution_start": 1657925527333,
    "execution_millis": 2000,
    "deepnote_cell_type": "code",
    "deepnote_cell_height": 135
   },
   "source": "%matplotlib inline\n\nimport numpy as np\nimport matplotlib.pyplot as plt",
   "execution_count": null,
   "outputs": []
  },
  {
   "cell_type": "code",
   "metadata": {
    "cell_id": "00001-4e12ee38-ace0-4381-b8ff-777bf4c0bb53",
    "deepnote_to_be_reexecuted": false,
    "source_hash": "2d744ba1",
    "execution_start": 1657925533180,
    "execution_millis": 9,
    "deepnote_cell_type": "code",
    "deepnote_cell_height": 150.375
   },
   "source": "A = np.array([[-1,3], [2,-2]])\nprint(A)",
   "execution_count": null,
   "outputs": [
    {
     "name": "stdout",
     "text": "[[-1  3]\n [ 2 -2]]\n",
     "output_type": "stream"
    }
   ]
  },
  {
   "cell_type": "code",
   "metadata": {
    "cell_id": "00002-dfe3e3e8-6233-4967-b596-6fccc26399d7",
    "deepnote_to_be_reexecuted": false,
    "source_hash": "cdd13414",
    "execution_start": 1657925537132,
    "execution_millis": 8,
    "deepnote_cell_type": "code",
    "deepnote_cell_height": 150.375
   },
   "source": "vector = np.array([[2],[1]])\nprint(vector)",
   "execution_count": null,
   "outputs": [
    {
     "name": "stdout",
     "text": "[[2]\n [1]]\n",
     "output_type": "stream"
    }
   ]
  },
  {
   "cell_type": "code",
   "metadata": {
    "cell_id": "00003-0c3329af-fc34-4527-80f6-a55e399126f2",
    "deepnote_to_be_reexecuted": false,
    "source_hash": "f485fcf3",
    "execution_start": 1657925620398,
    "execution_millis": 139,
    "deepnote_cell_type": "code",
    "deepnote_cell_height": 81
   },
   "source": "%run \"../funciones_auxiliares/graficarVectores.ipynb\"",
   "execution_count": null,
   "outputs": []
  },
  {
   "cell_type": "code",
   "metadata": {
    "cell_id": "00004-4b430aea-1692-4ec8-8ee3-378e1b3d5ddd",
    "deepnote_to_be_reexecuted": false,
    "source_hash": "933ab34b",
    "execution_start": 1657925624450,
    "execution_millis": 26,
    "deepnote_cell_type": "code",
    "deepnote_cell_height": 170.5625
   },
   "source": "print(vector)\nprint(vector.flatten())",
   "execution_count": null,
   "outputs": [
    {
     "name": "stdout",
     "text": "[[2]\n [1]]\n[2 1]\n",
     "output_type": "stream"
    }
   ]
  },
  {
   "cell_type": "code",
   "metadata": {
    "cell_id": "00005-9a536782-0b4d-4311-a08a-34d31040d7ce",
    "deepnote_to_be_reexecuted": false,
    "source_hash": "876d20ed",
    "execution_start": 1657925628016,
    "execution_millis": 17,
    "deepnote_cell_type": "code",
    "deepnote_cell_height": 188.5625
   },
   "source": "print(A)\nprint(A.flatten())\n",
   "execution_count": null,
   "outputs": [
    {
     "name": "stdout",
     "text": "[[-1  3]\n [ 2 -2]]\n[-1  3  2 -2]\n",
     "output_type": "stream"
    }
   ]
  },
  {
   "cell_type": "code",
   "metadata": {
    "cell_id": "00006-a2fe9e40-f4c5-45cf-95d3-e117ba5f0f7b",
    "deepnote_to_be_reexecuted": false,
    "source_hash": "6a8e176f",
    "execution_start": 1657925631426,
    "execution_millis": 719,
    "deepnote_cell_type": "code",
    "deepnote_cell_height": 457.1875,
    "deepnote_output_heights": [
     21.1875,
     254
    ]
   },
   "source": "graficarVectores([vector.flatten()], cols = 'blue')\n\nplt.xlim(-0.5, 3)\nplt.ylim(-0.5, 2)",
   "execution_count": null,
   "outputs": [
    {
     "output_type": "execute_result",
     "execution_count": 10,
     "data": {
      "text/plain": "(-0.5, 2.0)"
     },
     "metadata": {}
    },
    {
     "data": {
      "text/plain": "<Figure size 432x288 with 1 Axes>",
      "image/png": "[encoded data removed]"
     },
     "metadata": {
      "needs_background": "light",
      "image/png": {
       "width": 388,
       "height": 252
      }
     },
     "output_type": "display_data"
    }
   ]
  },
  {
   "cell_type": "code",
   "metadata": {
    "cell_id": "00007-d16d3cb0-5b26-4a90-aa21-002b1259fbc4",
    "deepnote_to_be_reexecuted": false,
    "source_hash": "5ed5bcbf",
    "execution_start": 1657925636708,
    "execution_millis": 22,
    "deepnote_cell_type": "code",
    "deepnote_cell_height": 150.375
   },
   "source": "vector_transformado = A.dot(vector)\nprint(vector_transformado)",
   "execution_count": null,
   "outputs": [
    {
     "name": "stdout",
     "text": "[[1]\n [2]]\n",
     "output_type": "stream"
    }
   ]
  },
  {
   "cell_type": "code",
   "metadata": {
    "cell_id": "00008-f00df2b6-dfc9-42f8-93d9-08da525bb361",
    "deepnote_to_be_reexecuted": false,
    "source_hash": "eca2334d",
    "execution_start": 1657925643972,
    "execution_millis": 756,
    "deepnote_cell_type": "code",
    "deepnote_cell_height": 475.1875,
    "deepnote_output_heights": [
     21.1875,
     254
    ]
   },
   "source": "graficarVectores([vector.flatten(), vector_transformado.flatten()],\n                 cols = ['blue', 'orange'])\n\nplt.xlim(-0.5, 2.5)\nplt.ylim(-0.5, 2.5)",
   "execution_count": null,
   "outputs": [
    {
     "output_type": "execute_result",
     "execution_count": 12,
     "data": {
      "text/plain": "(-0.5, 2.5)"
     },
     "metadata": {}
    },
    {
     "data": {
      "text/plain": "<Figure size 432x288 with 1 Axes>",
      "image/png": "[encoded data removed]"
     },
     "metadata": {
      "needs_background": "light",
      "image/png": {
       "width": 388,
       "height": 252
      }
     },
     "output_type": "display_data"
    }
   ]
  },
  {
   "cell_type": "code",
   "metadata": {
    "cell_id": "00009-084ed088-6e1b-4880-92b6-8f0204b52911",
    "owner_user_id": "539c9811-7223-493a-b976-74c44ab95ef2",
    "deepnote_cell_type": "code",
    "deepnote_cell_height": 112.1875
   },
   "source": "print(np.linalg.det(A))",
   "execution_count": null,
   "outputs": [
    {
     "name": "stdout",
     "output_type": "stream",
     "text": "-4.0\n"
    }
   ]
  },
  {
   "cell_type": "code",
   "metadata": {
    "cell_id": "00010-0387cb5d-17ec-451d-8dab-03d1a88528e4",
    "deepnote_cell_type": "code",
    "deepnote_cell_height": 150.375
   },
   "source": "print(np.linalg.norm(vector))\nprint(np.linalg.norm(vector_transformado))",
   "execution_count": null,
   "outputs": [
    {
     "name": "stdout",
     "output_type": "stream",
     "text": "2.23606797749979\n2.23606797749979\n"
    }
   ]
  },
  {
   "cell_type": "code",
   "metadata": {
    "cell_id": "00011-0aee53f1-69c4-45e2-9b28-51a3fbe409a6",
    "deepnote_cell_type": "code",
    "deepnote_cell_height": 66
   },
   "source": "",
   "execution_count": null,
   "outputs": []
  },
  {
   "cell_type": "markdown",
   "source": "<a style='text-decoration:none;line-height:16px;display:flex;color:#5B5B62;padding:10px;justify-content:end;' href='https://deepnote.com?utm_source=created-in-deepnote-cell&projectId=648f5d22-7d8b-4325-a5ca-73f69fb5231f' target=\"_blank\">\n<img alt='Created in deepnote.com' style='display:inline;max-height:16px;margin:0px;margin-right:7.5px;' src='data:image/svg+xml;base64,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' > </img>\nCreated in <span style='font-weight:600;margin-left:4px;'>Deepnote</span></a>",
   "metadata": {
    "tags": [],
    "created_in_deepnote_cell": true,
    "deepnote_cell_type": "markdown"
   }
  }
 ],
 "nbformat": 4,
 "nbformat_minor": 2,
 "metadata": {
  "kernelspec": {
   "display_name": "Python 3",
   "language": "python",
   "name": "python3"
  },
  "language_info": {
   "codemirror_mode": {
    "name": "ipython",
    "version": 3
   },
   "file_extension": ".py",
   "mimetype": "text/x-python",
   "name": "python",
   "nbconvert_exporter": "python",
   "pygments_lexer": "ipython3",
   "version": "3.7.4"
  },
  "deepnote_notebook_id": "8a7618f4-c6bb-4eb5-9496-b50e161dd136",
  "deepnote": {},
  "deepnote_execution_queue": []
 }
}