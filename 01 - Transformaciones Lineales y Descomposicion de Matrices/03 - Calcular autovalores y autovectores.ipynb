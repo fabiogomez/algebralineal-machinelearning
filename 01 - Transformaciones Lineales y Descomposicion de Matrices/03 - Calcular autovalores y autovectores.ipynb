{
 "cells": [
  {
   "cell_type": "code",
   "metadata": {
    "cell_id": "2185834f-096c-4963-97f6-35a306d75ad3",
    "deepnote_to_be_reexecuted": false,
    "source_hash": "8fd0b018",
    "execution_start": 1659399674519,
    "execution_millis": 1637,
    "deepnote_cell_type": "code",
    "deepnote_cell_height": 130
   },
   "source": "%matplotlib inline\n\nimport numpy as np\nimport matplotlib.pyplot as plt",
   "outputs": [],
   "execution_count": null
  },
  {
   "cell_type": "code",
   "metadata": {
    "cell_id": "00001-01b289c8-126a-4e16-afeb-11e5fd3f2f30",
    "deepnote_to_be_reexecuted": false,
    "source_hash": "b093fad3",
    "execution_start": 1659399679937,
    "execution_millis": 193,
    "deepnote_cell_type": "code",
    "deepnote_cell_height": 145.375
   },
   "source": "X = np.array([[3, 2], [4,1]])\nprint(X)",
   "outputs": [
    {
     "name": "stdout",
     "text": "[[3 2]\n [4 1]]\n",
     "output_type": "stream"
    }
   ],
   "execution_count": null
  },
  {
   "cell_type": "code",
   "metadata": {
    "cell_id": "00002-13f168cf-4cc2-4c4e-971b-9402bb6f0db1",
    "deepnote_to_be_reexecuted": false,
    "source_hash": "812f53a7",
    "execution_start": 1659399688992,
    "execution_millis": 4,
    "deepnote_cell_type": "code",
    "deepnote_cell_height": 127.375
   },
   "source": "print(np.linalg.eig(X))",
   "outputs": [
    {
     "name": "stdout",
     "text": "(array([ 5., -1.]), array([[ 0.70710678, -0.4472136 ],\n       [ 0.70710678,  0.89442719]]))\n",
     "output_type": "stream"
    }
   ],
   "execution_count": null
  },
  {
   "cell_type": "code",
   "source": "autovalores, autovectores = np.linalg.eig(X)\nprint(autovalores)\nprint(autovectores)",
   "metadata": {
    "cell_id": "00003-7e6f0b29-2e4b-4086-bf5a-a2de54a280a8",
    "deepnote_to_be_reexecuted": false,
    "source_hash": "72a648fa",
    "execution_start": 1659399716862,
    "execution_millis": 411,
    "deepnote_cell_type": "code",
    "deepnote_cell_height": 183.5625
   },
   "outputs": [
    {
     "name": "stdout",
     "text": "[ 5. -1.]\n[[ 0.70710678 -0.4472136 ]\n [ 0.70710678  0.89442719]]\n",
     "output_type": "stream"
    }
   ],
   "execution_count": null
  },
  {
   "cell_type": "code",
   "metadata": {
    "cell_id": "00004-a0fb7740-e861-45a1-b3e4-065b18c42887",
    "deepnote_to_be_reexecuted": false,
    "source_hash": "c4e0b29",
    "execution_start": 1659399728423,
    "execution_millis": 353,
    "deepnote_cell_type": "code",
    "deepnote_cell_height": 107.1875
   },
   "source": "print(autovectores[:, 0])",
   "outputs": [
    {
     "name": "stdout",
     "text": "[0.70710678 0.70710678]\n",
     "output_type": "stream"
    }
   ],
   "execution_count": null
  },
  {
   "cell_type": "code",
   "metadata": {
    "cell_id": "00005-a543b699-3308-4dc2-8a7c-e0dbb18e28ac",
    "deepnote_to_be_reexecuted": false,
    "source_hash": "7747b5b6",
    "execution_start": 1659399739207,
    "execution_millis": 23,
    "deepnote_cell_type": "code",
    "deepnote_cell_height": 107.1875
   },
   "source": "print(autovectores[:, 1])",
   "outputs": [
    {
     "name": "stdout",
     "text": "[-0.4472136   0.89442719]\n",
     "output_type": "stream"
    }
   ],
   "execution_count": null
  },
  {
   "cell_type": "code",
   "source": "%run \"../funciones_auxiliares/graficarVectores.ipynb\"",
   "metadata": {
    "cell_id": "00006-ed4b11b5-9232-4491-b6cd-718f13f31811",
    "deepnote_to_be_reexecuted": false,
    "source_hash": "f485fcf3",
    "execution_start": 1659399784279,
    "execution_millis": 95,
    "deepnote_cell_type": "code",
    "deepnote_cell_height": 76
   },
   "outputs": [],
   "execution_count": null
  },
  {
   "cell_type": "code",
   "source": "v = np.array([[-1], [2]])\n\nXv = X.dot(v)\n\nv_np = autovectores[:, 1]\nprint(Xv)",
   "metadata": {
    "cell_id": "00007-3f248e3d-cec7-40a2-94cb-812005608003",
    "deepnote_to_be_reexecuted": false,
    "source_hash": "9bfd9b01",
    "execution_start": 1659399934989,
    "execution_millis": 9,
    "deepnote_cell_type": "code",
    "deepnote_cell_height": 217.375
   },
   "outputs": [
    {
     "name": "stdout",
     "text": "[[ 1]\n [-2]]\n",
     "output_type": "stream"
    }
   ],
   "execution_count": null
  },
  {
   "cell_type": "code",
   "metadata": {
    "cell_id": "00008-e6e969ba-4a83-4cf7-a6e9-741809b67438",
    "deepnote_cell_type": "code",
    "deepnote_cell_height": 452.1875,
    "deepnote_output_heights": [
     21.1875,
     254
    ]
   },
   "source": "graficarVectores([Xv.flatten(), v.flatten(), v_np], cols = ['green','orange', 'blue'])\n\nplt.ylim(-4,2)\nplt.xlim(-7,3)",
   "execution_count": null,
   "outputs": [
    {
     "data": {
      "text/plain": "(-7, 3)"
     },
     "execution_count": 10,
     "metadata": {},
     "output_type": "execute_result"
    },
    {
     "data": {
      "image/png": "[encoded data removed]",
      "text/plain": "<Figure size 432x288 with 1 Axes>"
     },
     "metadata": {
      "needs_background": "light",
      "image/png": {
       "width": 371,
       "height": 252
      }
     },
     "output_type": "display_data"
    }
   ]
  },
  {
   "cell_type": "code",
   "metadata": {
    "cell_id": "00009-9ce36196-0092-4873-ae0d-01e9e10c40b2",
    "deepnote_cell_type": "code",
    "deepnote_cell_height": 61
   },
   "source": "",
   "execution_count": null,
   "outputs": []
  },
  {
   "cell_type": "markdown",
   "source": "<a style='text-decoration:none;line-height:16px;display:flex;color:#5B5B62;padding:10px;justify-content:end;' href='https://deepnote.com?utm_source=created-in-deepnote-cell&projectId=648f5d22-7d8b-4325-a5ca-73f69fb5231f' target=\"_blank\">\n<img alt='Created in deepnote.com' style='display:inline;max-height:16px;margin:0px;margin-right:7.5px;' src='data:image/svg+xml;base64,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' > </img>\nCreated in <span style='font-weight:600;margin-left:4px;'>Deepnote</span></a>",
   "metadata": {
    "tags": [],
    "created_in_deepnote_cell": true,
    "deepnote_cell_type": "markdown"
   }
  }
 ],
 "nbformat": 4,
 "nbformat_minor": 2,
 "metadata": {
  "kernelspec": {
   "display_name": "Python 3",
   "language": "python",
   "name": "python3"
  },
  "language_info": {
   "codemirror_mode": {
    "name": "ipython",
    "version": 3
   },
   "file_extension": ".py",
   "mimetype": "text/x-python",
   "name": "python",
   "nbconvert_exporter": "python",
   "pygments_lexer": "ipython3",
   "version": "3.7.4"
  },
  "deepnote_notebook_id": "5ad42d44-d487-457a-a6e0-7fd2c18b9852",
  "deepnote": {},
  "deepnote_execution_queue": []
 }
}